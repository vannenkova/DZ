import csv
razdict = {}
with open('razvodi.stat', 'r') as razfile: 
    razstat = csv.reader(razfile)
    for row in razstat:
        if row[0] == 'Годы':
            continue 
        else:
            razdict[int(row[0])] = int(row[1])
import numpy as np

import matplotlib.pyplot as plt
%matplotlib inline

x_coords = list(razdict.keys()) 
y_coords = list(razdict.values())

plt.xlabel('Год')
plt.ylabel('Число разводов')


# Построить график.
plt.plot(x_coords, y_coords)

# Показать график.
plt.show()
