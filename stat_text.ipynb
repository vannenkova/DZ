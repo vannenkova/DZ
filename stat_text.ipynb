{
 "cells": [
  {
   "cell_type": "code",
   "execution_count": 2,
   "metadata": {},
   "outputs": [
    {
     "name": "stdout",
     "output_type": "stream",
     "text": [
      "26.0\n"
     ]
    }
   ],
   "source": [
    "words = []\n",
    "with open('text.txt', 'r') as cunardfile:\n",
    "    for line in cunardfile:\n",
    "        words.append(line.count(' ')+1)\n",
    "print(sum(words)/len(words))"
   ]
  },
  {
   "cell_type": "code",
   "execution_count": 1,
   "metadata": {},
   "outputs": [
    {
     "name": "stdout",
     "output_type": "stream",
     "text": [
      "29\n",
      "1228\n",
      "30\n",
      "250\n"
     ]
    }
   ],
   "source": [
    "uppercase = 0\n",
    "lowercase = 0\n",
    "digit = 0\n",
    "space = 0\n",
    "with open('text.txt', 'r') as cunardfile:\n",
    "    cunard = cunardfile.readlines()\n",
    "for line in cunard:\n",
    "    for letter in line:\n",
    "        if 'a'<=letter<='z':\n",
    "            lowercase += 1\n",
    "        elif 'A'<=letter<='Z':\n",
    "            uppercase += 1\n",
    "        elif '0'<=letter<='9':\n",
    "            digit += 1\n",
    "        elif letter ==' ':\n",
    "            space += 1\n",
    "print(uppercase)\n",
    "print(lowercase)\n",
    "print(digit)\n",
    "print(space)"
   ]
  },
  {
   "cell_type": "code",
   "execution_count": null,
   "metadata": {},
   "outputs": [],
   "source": []
  }
 ],
 "metadata": {
  "kernelspec": {
   "display_name": "Python 3",
   "language": "python",
   "name": "python3"
  },
  "language_info": {
   "codemirror_mode": {
    "name": "ipython",
    "version": 3
   },
   "file_extension": ".py",
   "mimetype": "text/x-python",
   "name": "python",
   "nbconvert_exporter": "python",
   "pygments_lexer": "ipython3",
   "version": "3.7.3"
  }
 },
 "nbformat": 4,
 "nbformat_minor": 4
}
