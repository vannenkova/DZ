{
 "cells": [
  {
   "cell_type": "code",
   "execution_count": 1,
   "metadata": {},
   "outputs": [
    {
     "name": "stdout",
     "output_type": "stream",
     "text": [
      "83\n"
     ]
    }
   ],
   "source": [
    "import csv\n",
    "vkstat = []\n",
    "with open('vk_group_reach.stat', 'r') as vkfile:\n",
    "    vk = csv.reader(vkfile)\n",
    "    for row in vk:\n",
    "        if row[0] == 'Дата':\n",
    "            continue \n",
    "        else:\n",
    "            vkstat.append(row[7])\n",
    "print(max(vkstat))"
   ]
  },
  {
   "cell_type": "code",
   "execution_count": 2,
   "metadata": {},
   "outputs": [
    {
     "data": {
      "text/plain": [
       "4.75"
      ]
     },
     "execution_count": 2,
     "metadata": {},
     "output_type": "execute_result"
    }
   ],
   "source": [
    "import csv\n",
    "vkstat = []\n",
    "with open('vk_group_reach.stat', 'r') as vkfile:\n",
    "    vk = csv.reader(vkfile)\n",
    "    for row in vk:\n",
    "        if row[0] == 'Дата':\n",
    "            continue \n",
    "        else:\n",
    "            vkstat.append(row[0])\n",
    "            \n",
    "vkdates = []\n",
    "for element in vkstat:\n",
    "    x = element[5:7]\n",
    "    vkdates.append(int(x))\n",
    "len(vkdates)/len(set(vkdates))"
   ]
  },
  {
   "cell_type": "code",
   "execution_count": null,
   "metadata": {},
   "outputs": [],
   "source": []
  }
 ],
 "metadata": {
  "kernelspec": {
   "display_name": "Python 3",
   "language": "python",
   "name": "python3"
  },
  "language_info": {
   "codemirror_mode": {
    "name": "ipython",
    "version": 3
   },
   "file_extension": ".py",
   "mimetype": "text/x-python",
   "name": "python",
   "nbconvert_exporter": "python",
   "pygments_lexer": "ipython3",
   "version": "3.7.3"
  }
 },
 "nbformat": 4,
 "nbformat_minor": 4
}
